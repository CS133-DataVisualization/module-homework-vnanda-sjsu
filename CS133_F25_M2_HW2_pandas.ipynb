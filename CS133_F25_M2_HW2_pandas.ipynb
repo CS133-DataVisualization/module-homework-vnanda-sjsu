{
 "cells": [
  {
   "cell_type": "markdown",
   "metadata": {
    "id": "KaXHUmuvM4cH"
   },
   "source": [
    "# Module 2 Homework - Pandas\n",
    "Using a dataset from _Wine Spectator_, a wine magazine, we will practice data transformation, grouping, and sorting."
   ]
  },
  {
   "cell_type": "markdown",
   "metadata": {
    "id": "tTstCztoUGc7"
   },
   "source": [
    "Created by Vibhitha Nandakumar (SJSU ID)  \n",
    "Last updated: 09/12/2025"
   ]
  },
  {
   "cell_type": "code",
   "execution_count": 3,
   "metadata": {
    "id": "Iv968XwaM4cI"
   },
   "outputs": [],
   "source": [
    "csvurl=\"https://gist.githubusercontent.com/clairehq/\" + \\\n",
    "        \"79acab35be50eaf1c383948ed3fd1129/raw/407a02139ae1e134992b90b4b2b8c329b3d73a6a/winemag-data-130k-v2.csv\"\n",
    "import pandas as pd\n",
    "wine = pd.read_csv(csvurl)"
   ]
  },
  {
   "cell_type": "markdown",
   "metadata": {
    "id": "BJ47sxo7TPCT"
   },
   "source": [
    "**Data cleaning**  \n",
    "Notice that the first column is redundant. Part of data analysis is cleaning and removing redundancy. How would you drop the redundant column inplace, that is overwrite the dataframe."
   ]
  },
  {
   "cell_type": "code",
   "execution_count": 5,
   "metadata": {},
   "outputs": [
    {
     "data": {
      "text/html": [
       "<div>\n",
       "<style scoped>\n",
       "    .dataframe tbody tr th:only-of-type {\n",
       "        vertical-align: middle;\n",
       "    }\n",
       "\n",
       "    .dataframe tbody tr th {\n",
       "        vertical-align: top;\n",
       "    }\n",
       "\n",
       "    .dataframe thead th {\n",
       "        text-align: right;\n",
       "    }\n",
       "</style>\n",
       "<table border=\"1\" class=\"dataframe\">\n",
       "  <thead>\n",
       "    <tr style=\"text-align: right;\">\n",
       "      <th></th>\n",
       "      <th>Unnamed: 0</th>\n",
       "      <th>country</th>\n",
       "      <th>description</th>\n",
       "      <th>designation</th>\n",
       "      <th>points</th>\n",
       "      <th>price</th>\n",
       "      <th>province</th>\n",
       "      <th>region_1</th>\n",
       "      <th>region_2</th>\n",
       "      <th>taster_name</th>\n",
       "      <th>taster_twitter_handle</th>\n",
       "      <th>title</th>\n",
       "      <th>variety</th>\n",
       "      <th>winery</th>\n",
       "    </tr>\n",
       "  </thead>\n",
       "  <tbody>\n",
       "    <tr>\n",
       "      <th>0</th>\n",
       "      <td>0</td>\n",
       "      <td>Italy</td>\n",
       "      <td>Aromas include tropical fruit, broom, brimston...</td>\n",
       "      <td>Vulkà Bianco</td>\n",
       "      <td>87</td>\n",
       "      <td>NaN</td>\n",
       "      <td>Sicily &amp; Sardinia</td>\n",
       "      <td>Etna</td>\n",
       "      <td>NaN</td>\n",
       "      <td>Kerin O’Keefe</td>\n",
       "      <td>@kerinokeefe</td>\n",
       "      <td>Nicosia 2013 Vulkà Bianco  (Etna)</td>\n",
       "      <td>White Blend</td>\n",
       "      <td>Nicosia</td>\n",
       "    </tr>\n",
       "    <tr>\n",
       "      <th>1</th>\n",
       "      <td>1</td>\n",
       "      <td>Portugal</td>\n",
       "      <td>This is ripe and fruity, a wine that is smooth...</td>\n",
       "      <td>Avidagos</td>\n",
       "      <td>87</td>\n",
       "      <td>15.0</td>\n",
       "      <td>Douro</td>\n",
       "      <td>NaN</td>\n",
       "      <td>NaN</td>\n",
       "      <td>Roger Voss</td>\n",
       "      <td>@vossroger</td>\n",
       "      <td>Quinta dos Avidagos 2011 Avidagos Red (Douro)</td>\n",
       "      <td>Portuguese Red</td>\n",
       "      <td>Quinta dos Avidagos</td>\n",
       "    </tr>\n",
       "    <tr>\n",
       "      <th>2</th>\n",
       "      <td>2</td>\n",
       "      <td>US</td>\n",
       "      <td>Tart and snappy, the flavors of lime flesh and...</td>\n",
       "      <td>NaN</td>\n",
       "      <td>87</td>\n",
       "      <td>14.0</td>\n",
       "      <td>Oregon</td>\n",
       "      <td>Willamette Valley</td>\n",
       "      <td>Willamette Valley</td>\n",
       "      <td>Paul Gregutt</td>\n",
       "      <td>@paulgwine</td>\n",
       "      <td>Rainstorm 2013 Pinot Gris (Willamette Valley)</td>\n",
       "      <td>Pinot Gris</td>\n",
       "      <td>Rainstorm</td>\n",
       "    </tr>\n",
       "    <tr>\n",
       "      <th>3</th>\n",
       "      <td>3</td>\n",
       "      <td>US</td>\n",
       "      <td>Pineapple rind, lemon pith and orange blossom ...</td>\n",
       "      <td>Reserve Late Harvest</td>\n",
       "      <td>87</td>\n",
       "      <td>13.0</td>\n",
       "      <td>Michigan</td>\n",
       "      <td>Lake Michigan Shore</td>\n",
       "      <td>NaN</td>\n",
       "      <td>Alexander Peartree</td>\n",
       "      <td>NaN</td>\n",
       "      <td>St. Julian 2013 Reserve Late Harvest Riesling ...</td>\n",
       "      <td>Riesling</td>\n",
       "      <td>St. Julian</td>\n",
       "    </tr>\n",
       "    <tr>\n",
       "      <th>4</th>\n",
       "      <td>4</td>\n",
       "      <td>US</td>\n",
       "      <td>Much like the regular bottling from 2012, this...</td>\n",
       "      <td>Vintner's Reserve Wild Child Block</td>\n",
       "      <td>87</td>\n",
       "      <td>65.0</td>\n",
       "      <td>Oregon</td>\n",
       "      <td>Willamette Valley</td>\n",
       "      <td>Willamette Valley</td>\n",
       "      <td>Paul Gregutt</td>\n",
       "      <td>@paulgwine</td>\n",
       "      <td>Sweet Cheeks 2012 Vintner's Reserve Wild Child...</td>\n",
       "      <td>Pinot Noir</td>\n",
       "      <td>Sweet Cheeks</td>\n",
       "    </tr>\n",
       "  </tbody>\n",
       "</table>\n",
       "</div>"
      ],
      "text/plain": [
       "   Unnamed: 0   country                                        description  \\\n",
       "0           0     Italy  Aromas include tropical fruit, broom, brimston...   \n",
       "1           1  Portugal  This is ripe and fruity, a wine that is smooth...   \n",
       "2           2        US  Tart and snappy, the flavors of lime flesh and...   \n",
       "3           3        US  Pineapple rind, lemon pith and orange blossom ...   \n",
       "4           4        US  Much like the regular bottling from 2012, this...   \n",
       "\n",
       "                          designation  points  price           province  \\\n",
       "0                        Vulkà Bianco      87    NaN  Sicily & Sardinia   \n",
       "1                            Avidagos      87   15.0              Douro   \n",
       "2                                 NaN      87   14.0             Oregon   \n",
       "3                Reserve Late Harvest      87   13.0           Michigan   \n",
       "4  Vintner's Reserve Wild Child Block      87   65.0             Oregon   \n",
       "\n",
       "              region_1           region_2         taster_name  \\\n",
       "0                 Etna                NaN       Kerin O’Keefe   \n",
       "1                  NaN                NaN          Roger Voss   \n",
       "2    Willamette Valley  Willamette Valley        Paul Gregutt   \n",
       "3  Lake Michigan Shore                NaN  Alexander Peartree   \n",
       "4    Willamette Valley  Willamette Valley        Paul Gregutt   \n",
       "\n",
       "  taster_twitter_handle                                              title  \\\n",
       "0          @kerinokeefe                  Nicosia 2013 Vulkà Bianco  (Etna)   \n",
       "1            @vossroger      Quinta dos Avidagos 2011 Avidagos Red (Douro)   \n",
       "2           @paulgwine       Rainstorm 2013 Pinot Gris (Willamette Valley)   \n",
       "3                   NaN  St. Julian 2013 Reserve Late Harvest Riesling ...   \n",
       "4           @paulgwine   Sweet Cheeks 2012 Vintner's Reserve Wild Child...   \n",
       "\n",
       "          variety               winery  \n",
       "0     White Blend              Nicosia  \n",
       "1  Portuguese Red  Quinta dos Avidagos  \n",
       "2      Pinot Gris            Rainstorm  \n",
       "3        Riesling           St. Julian  \n",
       "4      Pinot Noir         Sweet Cheeks  "
      ]
     },
     "execution_count": 5,
     "metadata": {},
     "output_type": "execute_result"
    }
   ],
   "source": [
    "wine.head()"
   ]
  },
  {
   "cell_type": "markdown",
   "metadata": {
    "id": "B5icW1ooM4cK"
   },
   "source": [
    "#### Question 1: ####  \n",
    "What is the mean of the points column?"
   ]
  },
  {
   "cell_type": "code",
   "execution_count": 7,
   "metadata": {},
   "outputs": [
    {
     "data": {
      "text/html": [
       "<div>\n",
       "<style scoped>\n",
       "    .dataframe tbody tr th:only-of-type {\n",
       "        vertical-align: middle;\n",
       "    }\n",
       "\n",
       "    .dataframe tbody tr th {\n",
       "        vertical-align: top;\n",
       "    }\n",
       "\n",
       "    .dataframe thead th {\n",
       "        text-align: right;\n",
       "    }\n",
       "</style>\n",
       "<table border=\"1\" class=\"dataframe\">\n",
       "  <thead>\n",
       "    <tr style=\"text-align: right;\">\n",
       "      <th></th>\n",
       "      <th>Unnamed: 0</th>\n",
       "      <th>points</th>\n",
       "      <th>price</th>\n",
       "    </tr>\n",
       "  </thead>\n",
       "  <tbody>\n",
       "    <tr>\n",
       "      <th>count</th>\n",
       "      <td>65499.000000</td>\n",
       "      <td>65499.000000</td>\n",
       "      <td>60829.000000</td>\n",
       "    </tr>\n",
       "    <tr>\n",
       "      <th>mean</th>\n",
       "      <td>32749.000000</td>\n",
       "      <td>88.434037</td>\n",
       "      <td>35.232932</td>\n",
       "    </tr>\n",
       "    <tr>\n",
       "      <th>std</th>\n",
       "      <td>18908.076978</td>\n",
       "      <td>3.030310</td>\n",
       "      <td>39.477858</td>\n",
       "    </tr>\n",
       "    <tr>\n",
       "      <th>min</th>\n",
       "      <td>0.000000</td>\n",
       "      <td>80.000000</td>\n",
       "      <td>4.000000</td>\n",
       "    </tr>\n",
       "    <tr>\n",
       "      <th>25%</th>\n",
       "      <td>16374.500000</td>\n",
       "      <td>86.000000</td>\n",
       "      <td>17.000000</td>\n",
       "    </tr>\n",
       "    <tr>\n",
       "      <th>50%</th>\n",
       "      <td>32749.000000</td>\n",
       "      <td>88.000000</td>\n",
       "      <td>25.000000</td>\n",
       "    </tr>\n",
       "    <tr>\n",
       "      <th>75%</th>\n",
       "      <td>49123.500000</td>\n",
       "      <td>91.000000</td>\n",
       "      <td>42.000000</td>\n",
       "    </tr>\n",
       "    <tr>\n",
       "      <th>max</th>\n",
       "      <td>65498.000000</td>\n",
       "      <td>100.000000</td>\n",
       "      <td>2500.000000</td>\n",
       "    </tr>\n",
       "  </tbody>\n",
       "</table>\n",
       "</div>"
      ],
      "text/plain": [
       "         Unnamed: 0        points         price\n",
       "count  65499.000000  65499.000000  60829.000000\n",
       "mean   32749.000000     88.434037     35.232932\n",
       "std    18908.076978      3.030310     39.477858\n",
       "min        0.000000     80.000000      4.000000\n",
       "25%    16374.500000     86.000000     17.000000\n",
       "50%    32749.000000     88.000000     25.000000\n",
       "75%    49123.500000     91.000000     42.000000\n",
       "max    65498.000000    100.000000   2500.000000"
      ]
     },
     "execution_count": 7,
     "metadata": {},
     "output_type": "execute_result"
    }
   ],
   "source": [
    "wine.describe()"
   ]
  },
  {
   "cell_type": "code",
   "execution_count": 8,
   "metadata": {
    "id": "zfLRcH-QNZk8"
   },
   "outputs": [
    {
     "name": "stdout",
     "output_type": "stream",
     "text": [
      "88.43403716087269\n"
     ]
    }
   ],
   "source": [
    "tot_entries = len(wine)\n",
    "pts_tot = wine['points'].sum()\n",
    "pts_mean = pts_tot/tot_entries\n",
    "print(pts_mean)"
   ]
  },
  {
   "cell_type": "markdown",
   "metadata": {},
   "source": [
    "***The mean is 88.434***"
   ]
  },
  {
   "cell_type": "markdown",
   "metadata": {
    "id": "xgUNI-hfM4cK"
   },
   "source": [
    "#### Question 2: ####  \n",
    "How many countries are present in this dataset? (Only count each country once)"
   ]
  },
  {
   "cell_type": "code",
   "execution_count": 11,
   "metadata": {
    "id": "3VtO-ngdNau1"
   },
   "outputs": [
    {
     "data": {
      "text/plain": [
       "0            Italy\n",
       "1         Portugal\n",
       "2               US\n",
       "3               US\n",
       "4               US\n",
       "           ...    \n",
       "65494       France\n",
       "65495    Australia\n",
       "65496           US\n",
       "65497           US\n",
       "65498        Spain\n",
       "Name: country, Length: 65499, dtype: object"
      ]
     },
     "execution_count": 11,
     "metadata": {},
     "output_type": "execute_result"
    }
   ],
   "source": [
    "wine.iloc[:, 1]"
   ]
  },
  {
   "cell_type": "code",
   "execution_count": 12,
   "metadata": {},
   "outputs": [
    {
     "name": "stdout",
     "output_type": "stream",
     "text": [
      "42\n"
     ]
    }
   ],
   "source": [
    "unique_countries = wine['country'].unique()\n",
    "print(len(unique_countries))"
   ]
  },
  {
   "cell_type": "markdown",
   "metadata": {},
   "source": [
    "***42***"
   ]
  },
  {
   "cell_type": "markdown",
   "metadata": {
    "id": "o0LDb6ahM4cL"
   },
   "source": [
    "#### Question 3: ####\n",
    "How many times does each country appeared in this dataset? Show each country and the corresponding count (show counts in ascending order)"
   ]
  },
  {
   "cell_type": "code",
   "execution_count": 15,
   "metadata": {
    "id": "tLZ7v1RYNdDm"
   },
   "outputs": [
    {
     "name": "stdout",
     "output_type": "stream",
     "text": [
      "{'Italy': 10005, 'Portugal': 2963, 'US': 27177, 'Spain': 3409, 'France': 11174, 'Germany': 1051, 'Argentina': 1907, 'Chile': 2258, 'Australia': 1177, 'Austria': 1635, 'South Africa': 737, 'New Zealand': 733, 'Israel': 259, 'Hungary': 61, 'Greece': 242, 'Romania': 67, 'Mexico': 31, 'Canada': 108, nan: 0, 'Turkey': 43, 'Czech Republic': 6, 'Slovenia': 39, 'Luxembourg': 4, 'Croatia': 44, 'Georgia': 37, 'Uruguay': 61, 'England': 36, 'Lebanon': 20, 'Serbia': 7, 'Brazil': 31, 'Moldova': 30, 'Morocco': 11, 'Peru': 8, 'India': 4, 'Bulgaria': 68, 'Cyprus': 6, 'Armenia': 1, 'Switzerland': 4, 'Bosnia and Herzegovina': 1, 'Ukraine': 5, 'Slovakia': 1, 'Macedonia': 6}\n"
     ]
    }
   ],
   "source": [
    "# print(unique_words)\n",
    "country_count = {country: (wine['country'] == country).sum() for country in unique_countries}\n",
    "print(country_count)"
   ]
  },
  {
   "cell_type": "markdown",
   "metadata": {
    "id": "OpkB90HkM4cL"
   },
   "source": [
    "#### Question 4: ####\n",
    "Create a variable `adjusted_price` containing the adjusted price which is the price subtracted by the average price. *This is called **\"centering\" transformation** - a method commonly used in the preprocessing step before applying various machine learning algorithms.*"
   ]
  },
  {
   "cell_type": "code",
   "execution_count": 17,
   "metadata": {
    "id": "PiNrXHhMNeTD"
   },
   "outputs": [
    {
     "name": "stdout",
     "output_type": "stream",
     "text": [
      "32.72086596741935\n"
     ]
    }
   ],
   "source": [
    "price_tot = wine['price'].sum()\n",
    "price_mean = price_tot/tot_entries\n",
    "print(price_mean)\n",
    "\n",
    "wine['adjusted_price'] = wine.apply(lambda row: row['price']-price_mean, axis=1)"
   ]
  },
  {
   "cell_type": "code",
   "execution_count": 18,
   "metadata": {},
   "outputs": [
    {
     "data": {
      "text/html": [
       "<div>\n",
       "<style scoped>\n",
       "    .dataframe tbody tr th:only-of-type {\n",
       "        vertical-align: middle;\n",
       "    }\n",
       "\n",
       "    .dataframe tbody tr th {\n",
       "        vertical-align: top;\n",
       "    }\n",
       "\n",
       "    .dataframe thead th {\n",
       "        text-align: right;\n",
       "    }\n",
       "</style>\n",
       "<table border=\"1\" class=\"dataframe\">\n",
       "  <thead>\n",
       "    <tr style=\"text-align: right;\">\n",
       "      <th></th>\n",
       "      <th>country</th>\n",
       "      <th>price</th>\n",
       "      <th>adjusted_price</th>\n",
       "    </tr>\n",
       "  </thead>\n",
       "  <tbody>\n",
       "    <tr>\n",
       "      <th>0</th>\n",
       "      <td>Italy</td>\n",
       "      <td>NaN</td>\n",
       "      <td>NaN</td>\n",
       "    </tr>\n",
       "    <tr>\n",
       "      <th>1</th>\n",
       "      <td>Portugal</td>\n",
       "      <td>15.0</td>\n",
       "      <td>-17.720866</td>\n",
       "    </tr>\n",
       "    <tr>\n",
       "      <th>2</th>\n",
       "      <td>US</td>\n",
       "      <td>14.0</td>\n",
       "      <td>-18.720866</td>\n",
       "    </tr>\n",
       "    <tr>\n",
       "      <th>3</th>\n",
       "      <td>US</td>\n",
       "      <td>13.0</td>\n",
       "      <td>-19.720866</td>\n",
       "    </tr>\n",
       "    <tr>\n",
       "      <th>4</th>\n",
       "      <td>US</td>\n",
       "      <td>65.0</td>\n",
       "      <td>32.279134</td>\n",
       "    </tr>\n",
       "  </tbody>\n",
       "</table>\n",
       "</div>"
      ],
      "text/plain": [
       "    country  price  adjusted_price\n",
       "0     Italy    NaN             NaN\n",
       "1  Portugal   15.0      -17.720866\n",
       "2        US   14.0      -18.720866\n",
       "3        US   13.0      -19.720866\n",
       "4        US   65.0       32.279134"
      ]
     },
     "execution_count": 18,
     "metadata": {},
     "output_type": "execute_result"
    }
   ],
   "source": [
    "wine[['country', 'price', 'adjusted_price']].head()"
   ]
  },
  {
   "cell_type": "markdown",
   "metadata": {
    "id": "AkOtVGS6M4cL"
   },
   "source": [
    "#### Question 5: ####\n",
    "What is the title of the wine that has the highest points-to-price ratio in the dataset?"
   ]
  },
  {
   "cell_type": "code",
   "execution_count": 20,
   "metadata": {
    "id": "M493qpX7NfjD"
   },
   "outputs": [
    {
     "data": {
      "text/html": [
       "<div>\n",
       "<style scoped>\n",
       "    .dataframe tbody tr th:only-of-type {\n",
       "        vertical-align: middle;\n",
       "    }\n",
       "\n",
       "    .dataframe tbody tr th {\n",
       "        vertical-align: top;\n",
       "    }\n",
       "\n",
       "    .dataframe thead th {\n",
       "        text-align: right;\n",
       "    }\n",
       "</style>\n",
       "<table border=\"1\" class=\"dataframe\">\n",
       "  <thead>\n",
       "    <tr style=\"text-align: right;\">\n",
       "      <th></th>\n",
       "      <th>country</th>\n",
       "      <th>points</th>\n",
       "      <th>price</th>\n",
       "      <th>pts-to-price</th>\n",
       "      <th>adjusted_price</th>\n",
       "    </tr>\n",
       "  </thead>\n",
       "  <tbody>\n",
       "    <tr>\n",
       "      <th>0</th>\n",
       "      <td>Italy</td>\n",
       "      <td>87</td>\n",
       "      <td>NaN</td>\n",
       "      <td>NaN</td>\n",
       "      <td>NaN</td>\n",
       "    </tr>\n",
       "    <tr>\n",
       "      <th>1</th>\n",
       "      <td>Portugal</td>\n",
       "      <td>87</td>\n",
       "      <td>15.0</td>\n",
       "      <td>5.800000</td>\n",
       "      <td>-17.720866</td>\n",
       "    </tr>\n",
       "    <tr>\n",
       "      <th>2</th>\n",
       "      <td>US</td>\n",
       "      <td>87</td>\n",
       "      <td>14.0</td>\n",
       "      <td>6.214286</td>\n",
       "      <td>-18.720866</td>\n",
       "    </tr>\n",
       "    <tr>\n",
       "      <th>3</th>\n",
       "      <td>US</td>\n",
       "      <td>87</td>\n",
       "      <td>13.0</td>\n",
       "      <td>6.692308</td>\n",
       "      <td>-19.720866</td>\n",
       "    </tr>\n",
       "    <tr>\n",
       "      <th>4</th>\n",
       "      <td>US</td>\n",
       "      <td>87</td>\n",
       "      <td>65.0</td>\n",
       "      <td>1.338462</td>\n",
       "      <td>32.279134</td>\n",
       "    </tr>\n",
       "  </tbody>\n",
       "</table>\n",
       "</div>"
      ],
      "text/plain": [
       "    country  points  price  pts-to-price  adjusted_price\n",
       "0     Italy      87    NaN           NaN             NaN\n",
       "1  Portugal      87   15.0      5.800000      -17.720866\n",
       "2        US      87   14.0      6.214286      -18.720866\n",
       "3        US      87   13.0      6.692308      -19.720866\n",
       "4        US      87   65.0      1.338462       32.279134"
      ]
     },
     "execution_count": 20,
     "metadata": {},
     "output_type": "execute_result"
    }
   ],
   "source": [
    "wine['pts-to-price'] = wine.apply(lambda row: row['points']/row['price'], axis=1)\n",
    "wine[['country', 'points', 'price', 'pts-to-price', 'adjusted_price']].head()"
   ]
  },
  {
   "cell_type": "code",
   "execution_count": 21,
   "metadata": {},
   "outputs": [],
   "source": [
    "max_ratio = wine['pts-to-price'].max()"
   ]
  },
  {
   "cell_type": "code",
   "execution_count": 22,
   "metadata": {},
   "outputs": [
    {
     "name": "stdout",
     "output_type": "stream",
     "text": [
      "       Unnamed: 0 country                                        description  \\\n",
      "64590       64590      US  There's a lot going on in this Merlot, which i...   \n",
      "\n",
      "      designation  points  price    province    region_1          region_2  \\\n",
      "64590         NaN      86    4.0  California  California  California Other   \n",
      "\n",
      "      taster_name taster_twitter_handle                          title  \\\n",
      "64590         NaN                   NaN  Bandit NV Merlot (California)   \n",
      "\n",
      "      variety  winery  adjusted_price  pts-to-price  \n",
      "64590  Merlot  Bandit      -28.720866          21.5  \n"
     ]
    }
   ],
   "source": [
    "# max_row = df[df['total_crimes'] == df['total_crimes'].max()]\n",
    "\n",
    "max_row = wine[wine['pts-to-price'] == max_ratio]\n",
    "print(max_row)"
   ]
  },
  {
   "cell_type": "markdown",
   "metadata": {},
   "source": [
    "***Bandit NV Merlot (California)***"
   ]
  },
  {
   "cell_type": "markdown",
   "metadata": {
    "id": "Zqt78i-eM4cL"
   },
   "source": [
    "#### Question 6: ####\n",
    "Create a series `flavor_counts` that contains two values: the number of wines that has the word \"tart\" in the `description` column and the number of wines that has the word \"berries\" in the `description` column. The index of the Series should be \"Tart\" and \"Berries\" for the corresponding values."
   ]
  },
  {
   "cell_type": "code",
   "execution_count": 25,
   "metadata": {
    "id": "uzqdreKSM4cM"
   },
   "outputs": [
    {
     "name": "stdout",
     "output_type": "stream",
     "text": [
      "{'tart': 4291, 'berries': 3885}\n"
     ]
    }
   ],
   "source": [
    "# Look for the word \"tart\", not case sensitive, not a substring of another word.\n",
    "# Same applies to the word \"berries\"\n",
    "# Your code here . . .\n",
    "words = ['tart', 'berries']\n",
    "\n",
    "flavor_counts = {word: wine['description'].str.count(word).sum() for word in words}\n",
    "print(flavor_counts)\n"
   ]
  },
  {
   "cell_type": "markdown",
   "metadata": {
    "id": "wSVdmOw9M4cM"
   },
   "source": [
    "#### Question 7: ####\n",
    "Let's convert the points into simple star ratings. A score of 90 or higher counts as 3 stars, a score of at least 80 but less than 90 is 2 stars. Any other score is 1 star.\n",
    "\n",
    "Also, any wines from France should automatically get 3 stars, regardless of points.\n",
    "\n",
    "Add this new column `star_ratings` to the dataframe with the number of stars for each wine in the dataset."
   ]
  },
  {
   "cell_type": "code",
   "execution_count": 27,
   "metadata": {
    "id": "yOucjOJZM4cN"
   },
   "outputs": [
    {
     "data": {
      "text/html": [
       "<div>\n",
       "<style scoped>\n",
       "    .dataframe tbody tr th:only-of-type {\n",
       "        vertical-align: middle;\n",
       "    }\n",
       "\n",
       "    .dataframe tbody tr th {\n",
       "        vertical-align: top;\n",
       "    }\n",
       "\n",
       "    .dataframe thead th {\n",
       "        text-align: right;\n",
       "    }\n",
       "</style>\n",
       "<table border=\"1\" class=\"dataframe\">\n",
       "  <thead>\n",
       "    <tr style=\"text-align: right;\">\n",
       "      <th></th>\n",
       "      <th>Unnamed: 0</th>\n",
       "      <th>country</th>\n",
       "      <th>description</th>\n",
       "      <th>designation</th>\n",
       "      <th>points</th>\n",
       "      <th>price</th>\n",
       "      <th>province</th>\n",
       "      <th>region_1</th>\n",
       "      <th>region_2</th>\n",
       "      <th>taster_name</th>\n",
       "      <th>taster_twitter_handle</th>\n",
       "      <th>title</th>\n",
       "      <th>variety</th>\n",
       "      <th>winery</th>\n",
       "      <th>adjusted_price</th>\n",
       "      <th>pts-to-price</th>\n",
       "      <th>star_ratings</th>\n",
       "    </tr>\n",
       "  </thead>\n",
       "  <tbody>\n",
       "    <tr>\n",
       "      <th>0</th>\n",
       "      <td>0</td>\n",
       "      <td>Italy</td>\n",
       "      <td>Aromas include tropical fruit, broom, brimston...</td>\n",
       "      <td>Vulkà Bianco</td>\n",
       "      <td>87</td>\n",
       "      <td>NaN</td>\n",
       "      <td>Sicily &amp; Sardinia</td>\n",
       "      <td>Etna</td>\n",
       "      <td>NaN</td>\n",
       "      <td>Kerin O’Keefe</td>\n",
       "      <td>@kerinokeefe</td>\n",
       "      <td>Nicosia 2013 Vulkà Bianco  (Etna)</td>\n",
       "      <td>White Blend</td>\n",
       "      <td>Nicosia</td>\n",
       "      <td>NaN</td>\n",
       "      <td>NaN</td>\n",
       "      <td>2</td>\n",
       "    </tr>\n",
       "    <tr>\n",
       "      <th>1</th>\n",
       "      <td>1</td>\n",
       "      <td>Portugal</td>\n",
       "      <td>This is ripe and fruity, a wine that is smooth...</td>\n",
       "      <td>Avidagos</td>\n",
       "      <td>87</td>\n",
       "      <td>15.0</td>\n",
       "      <td>Douro</td>\n",
       "      <td>NaN</td>\n",
       "      <td>NaN</td>\n",
       "      <td>Roger Voss</td>\n",
       "      <td>@vossroger</td>\n",
       "      <td>Quinta dos Avidagos 2011 Avidagos Red (Douro)</td>\n",
       "      <td>Portuguese Red</td>\n",
       "      <td>Quinta dos Avidagos</td>\n",
       "      <td>-17.720866</td>\n",
       "      <td>5.800000</td>\n",
       "      <td>2</td>\n",
       "    </tr>\n",
       "    <tr>\n",
       "      <th>2</th>\n",
       "      <td>2</td>\n",
       "      <td>US</td>\n",
       "      <td>Tart and snappy, the flavors of lime flesh and...</td>\n",
       "      <td>NaN</td>\n",
       "      <td>87</td>\n",
       "      <td>14.0</td>\n",
       "      <td>Oregon</td>\n",
       "      <td>Willamette Valley</td>\n",
       "      <td>Willamette Valley</td>\n",
       "      <td>Paul Gregutt</td>\n",
       "      <td>@paulgwine</td>\n",
       "      <td>Rainstorm 2013 Pinot Gris (Willamette Valley)</td>\n",
       "      <td>Pinot Gris</td>\n",
       "      <td>Rainstorm</td>\n",
       "      <td>-18.720866</td>\n",
       "      <td>6.214286</td>\n",
       "      <td>2</td>\n",
       "    </tr>\n",
       "    <tr>\n",
       "      <th>3</th>\n",
       "      <td>3</td>\n",
       "      <td>US</td>\n",
       "      <td>Pineapple rind, lemon pith and orange blossom ...</td>\n",
       "      <td>Reserve Late Harvest</td>\n",
       "      <td>87</td>\n",
       "      <td>13.0</td>\n",
       "      <td>Michigan</td>\n",
       "      <td>Lake Michigan Shore</td>\n",
       "      <td>NaN</td>\n",
       "      <td>Alexander Peartree</td>\n",
       "      <td>NaN</td>\n",
       "      <td>St. Julian 2013 Reserve Late Harvest Riesling ...</td>\n",
       "      <td>Riesling</td>\n",
       "      <td>St. Julian</td>\n",
       "      <td>-19.720866</td>\n",
       "      <td>6.692308</td>\n",
       "      <td>2</td>\n",
       "    </tr>\n",
       "    <tr>\n",
       "      <th>4</th>\n",
       "      <td>4</td>\n",
       "      <td>US</td>\n",
       "      <td>Much like the regular bottling from 2012, this...</td>\n",
       "      <td>Vintner's Reserve Wild Child Block</td>\n",
       "      <td>87</td>\n",
       "      <td>65.0</td>\n",
       "      <td>Oregon</td>\n",
       "      <td>Willamette Valley</td>\n",
       "      <td>Willamette Valley</td>\n",
       "      <td>Paul Gregutt</td>\n",
       "      <td>@paulgwine</td>\n",
       "      <td>Sweet Cheeks 2012 Vintner's Reserve Wild Child...</td>\n",
       "      <td>Pinot Noir</td>\n",
       "      <td>Sweet Cheeks</td>\n",
       "      <td>32.279134</td>\n",
       "      <td>1.338462</td>\n",
       "      <td>2</td>\n",
       "    </tr>\n",
       "  </tbody>\n",
       "</table>\n",
       "</div>"
      ],
      "text/plain": [
       "   Unnamed: 0   country                                        description  \\\n",
       "0           0     Italy  Aromas include tropical fruit, broom, brimston...   \n",
       "1           1  Portugal  This is ripe and fruity, a wine that is smooth...   \n",
       "2           2        US  Tart and snappy, the flavors of lime flesh and...   \n",
       "3           3        US  Pineapple rind, lemon pith and orange blossom ...   \n",
       "4           4        US  Much like the regular bottling from 2012, this...   \n",
       "\n",
       "                          designation  points  price           province  \\\n",
       "0                        Vulkà Bianco      87    NaN  Sicily & Sardinia   \n",
       "1                            Avidagos      87   15.0              Douro   \n",
       "2                                 NaN      87   14.0             Oregon   \n",
       "3                Reserve Late Harvest      87   13.0           Michigan   \n",
       "4  Vintner's Reserve Wild Child Block      87   65.0             Oregon   \n",
       "\n",
       "              region_1           region_2         taster_name  \\\n",
       "0                 Etna                NaN       Kerin O’Keefe   \n",
       "1                  NaN                NaN          Roger Voss   \n",
       "2    Willamette Valley  Willamette Valley        Paul Gregutt   \n",
       "3  Lake Michigan Shore                NaN  Alexander Peartree   \n",
       "4    Willamette Valley  Willamette Valley        Paul Gregutt   \n",
       "\n",
       "  taster_twitter_handle                                              title  \\\n",
       "0          @kerinokeefe                  Nicosia 2013 Vulkà Bianco  (Etna)   \n",
       "1            @vossroger      Quinta dos Avidagos 2011 Avidagos Red (Douro)   \n",
       "2           @paulgwine       Rainstorm 2013 Pinot Gris (Willamette Valley)   \n",
       "3                   NaN  St. Julian 2013 Reserve Late Harvest Riesling ...   \n",
       "4           @paulgwine   Sweet Cheeks 2012 Vintner's Reserve Wild Child...   \n",
       "\n",
       "          variety               winery  adjusted_price  pts-to-price  \\\n",
       "0     White Blend              Nicosia             NaN           NaN   \n",
       "1  Portuguese Red  Quinta dos Avidagos      -17.720866      5.800000   \n",
       "2      Pinot Gris            Rainstorm      -18.720866      6.214286   \n",
       "3        Riesling           St. Julian      -19.720866      6.692308   \n",
       "4      Pinot Noir         Sweet Cheeks       32.279134      1.338462   \n",
       "\n",
       "   star_ratings  \n",
       "0             2  \n",
       "1             2  \n",
       "2             2  \n",
       "3             2  \n",
       "4             2  "
      ]
     },
     "execution_count": 27,
     "metadata": {},
     "output_type": "execute_result"
    }
   ],
   "source": [
    "def rating(x): # x is going to be a value from the Series\n",
    "    if x >= 90:\n",
    "        return 3\n",
    "    elif 80 <= x < 90:\n",
    "        return 2\n",
    "    else:\n",
    "        return 1\n",
    "\n",
    "scale = wine['points'].map(rating) \n",
    "wine['star_ratings'] = scale \n",
    "wine.head()"
   ]
  },
  {
   "cell_type": "markdown",
   "metadata": {
    "id": "v9btZBA6M4cN"
   },
   "source": [
    "#### Question 8: ####\n",
    "Who are the most common wine reviewers in the dataset? Create a Series whose index is the taster_twitter_handle category from the dataset, and whose values count how many reviews each person wrote."
   ]
  },
  {
   "cell_type": "code",
   "execution_count": 29,
   "metadata": {
    "id": "dqsUgtGBNiQZ"
   },
   "outputs": [
    {
     "name": "stdout",
     "output_type": "stream",
     "text": [
      "{'@kerinokeefe': 5313, '@vossroger': 13045, '@paulgwine\\xa0': 4851, nan: 0, '@wineschach': 7752, '@vboone': 4696, '@mattkettmann': 3035, '@wawinereport': 2358, '@gordone_cellars': 2032, '@JoeCz': 2605, '@AnneInVino': 1769, '@laurbuzz': 938, '@worldwineguys': 465, '@suskostrzewa': 593, '@bkfiona': 11, '@winewchristina': 4}\n"
     ]
    }
   ],
   "source": [
    "unique_tasters = wine['taster_twitter_handle'].unique() #creates a list of unique twitter handles\n",
    "\n",
    "taster_count = {taster: (wine['taster_twitter_handle'] == taster).sum() for taster in unique_tasters}\n",
    "print(taster_count)\n",
    "# print(len(taster_count))"
   ]
  },
  {
   "cell_type": "markdown",
   "metadata": {
    "id": "rIO81pKrM4cN"
   },
   "source": [
    "#### Question 9: ####\n",
    "What combination of countries and varieties are most common? Create a Series whose index is a MultiIndexof {country, variety} pairs. For example, a pinot noir produced in the US should map to {\"US\", \"Pinot Noir\"}. Sort the values in the Series in descending order based on wine count."
   ]
  },
  {
   "cell_type": "code",
   "execution_count": 31,
   "metadata": {
    "id": "4Is2muZjNjxd"
   },
   "outputs": [
    {
     "name": "stdout",
     "output_type": "stream",
     "text": [
      "      country                   variety  count\n",
      "1206       US                Pinot Noir   4918\n",
      "1099       US        Cabernet Sauvignon   3649\n",
      "1114       US                Chardonnay   3412\n",
      "304    France  Bordeaux-style Red Blend   2380\n",
      "676     Italy                 Red Blend   1870\n",
      "...       ...                       ...    ...\n",
      "456   Germany                 Rieslaner      1\n",
      "711     Italy                 Vespaiolo      1\n",
      "712     Italy                 Vespolina      1\n",
      "714     Italy                  Vitovska      1\n",
      "1004    Spain      Muscat of Alexandria      1\n",
      "\n",
      "[1304 rows x 3 columns]\n"
     ]
    }
   ],
   "source": [
    "pair = (wine.groupby(['country', 'variety']).size())\n",
    "counts = pair.reset_index(name='count')\n",
    "pair_counts = counts.sort_values('count')\n",
    "pair_counts_ordered = pair_counts.sort_values(by='count', ascending=False)\n",
    "\n",
    "print(pair_counts_ordered)"
   ]
  },
  {
   "cell_type": "markdown",
   "metadata": {
    "id": "C6sj-ABlM4cO"
   },
   "source": [
    "#### Question 10 #####\n",
    "Create a Series whose index is reviewers and whose values is the average score given out by that reviewer. Hint: you will need the `taster_name` and `points` columns."
   ]
  },
  {
   "cell_type": "code",
   "execution_count": 33,
   "metadata": {
    "id": "QFseCkVwNlAk"
   },
   "outputs": [
    {
     "name": "stdout",
     "output_type": "stream",
     "text": [
      "{'Alexander Peartree': 18063, 'Anna Lee C. Iijima': 188604, 'Anne Krebiehl\\xa0MW': 160250, 'Carrie Dykes': 3899, 'Christina Pickard': 358, 'Fiona Adams': 958, 'Jeff Jenssen': 20656, 'Jim Gordon': 180044, 'Joe Czerwinski': 230594, 'Kerin O’Keefe': 471943, 'Lauren Buzzeo': 82386, 'Matt Kettmann': 273214, 'Michael Schachner': 673684, 'Mike DeSimone': 20566, 'Paul Gregutt': 432200, 'Roger Voss': 1156817, 'Sean P. Sullivan': 209075, 'Susan Kostrzewa': 51240, 'Virginie Boone': 419022}\n"
     ]
    }
   ],
   "source": [
    "sums = wine.groupby('taster_name')['points'].sum().to_dict() #geeksforgeeks help for .to_dict()\n",
    "print(sums)\n",
    "# print(len(sums))"
   ]
  },
  {
   "cell_type": "code",
   "execution_count": null,
   "metadata": {},
   "outputs": [],
   "source": []
  }
 ],
 "metadata": {
  "colab": {
   "provenance": []
  },
  "kernelspec": {
   "display_name": "Python [conda env:anaconda3] *",
   "language": "python",
   "name": "conda-env-anaconda3-py"
  },
  "language_info": {
   "codemirror_mode": {
    "name": "ipython",
    "version": 3
   },
   "file_extension": ".py",
   "mimetype": "text/x-python",
   "name": "python",
   "nbconvert_exporter": "python",
   "pygments_lexer": "ipython3",
   "version": "3.11.7"
  }
 },
 "nbformat": 4,
 "nbformat_minor": 4
}
