{
  "cells": [
    {
      "cell_type": "markdown",
      "metadata": {
        "id": "-AqiLKPR3r6d"
      },
      "source": [
        "# Module 3 Homework - Working with complicated data to explore relationships"
      ]
    },
    {
      "cell_type": "markdown",
      "metadata": {
        "id": "SX56AcddE7-V"
      },
      "source": [
        "Created by VIBHITHA NANDAKUMAR (SJSU ID)  \n",
        "Last updated: OCT 2ND 2025"
      ]
    },
    {
      "cell_type": "markdown",
      "metadata": {
        "id": "tio0jU9Y3r6h"
      },
      "source": [
        "#### Question 1: ####\n",
        "\n",
        "blast_results: https://raw.githubusercontent.com/csbfx/advpy122-data/master/blast_results.csv\n",
        "\n",
        "Read in the data from the csv file above. Skip all the comment lines, create a header for the dataframe based on the fields list in the comment line that starts with **# Fields:**. Drop the first column `query acc.ver`. Set the `subject acc.ver` as the index of the dataframe. The last column of the dataframe should be `publications`. Show the first five rows of the resulting dataframe."
      ]
    },
    {
      "cell_type": "code",
      "execution_count": 288,
      "metadata": {
        "id": "zkhws8KT3r6i"
      },
      "outputs": [],
      "source": [
        "import pandas as pd\n",
        "hw3_data = pd.read_csv('https://raw.githubusercontent.com/csbfx/advpy122-data/master/blast_results.csv')"
      ]
    },
    {
      "cell_type": "code",
      "execution_count": 289,
      "metadata": {},
      "outputs": [],
      "source": [
        "# hw3_data.drop(hw3_data.columns[15])\n",
        "# hw3_data.head()"
      ]
    },
    {
      "cell_type": "code",
      "execution_count": 290,
      "metadata": {},
      "outputs": [
        {
          "name": "stdout",
          "output_type": "stream",
          "text": [
            "15\n"
          ]
        }
      ],
      "source": [
        "headers = hw3_data.iloc[4,0]\n",
        "# print(headers)\n",
        "headers_list = headers.split(', ')\n",
        "\n",
        "first = headers_list[0].split(': ')\n",
        "headers_list[0:0] = first\n",
        "headers_list.pop(2)\n",
        "headers_list.pop(0)\n",
        "# print(headers_list)\n",
        "print(len(headers_list))"
      ]
    },
    {
      "cell_type": "code",
      "execution_count": 291,
      "metadata": {},
      "outputs": [],
      "source": [
        "hw3_data = hw3_data.drop(hw3_data.columns[[15]], axis=1)\n",
        "hw3_data.columns = headers_list\n",
        "hw3_data = hw3_data.drop([0,1,2,3,4,5])\n",
        "# hw3_data = hw3_data.reset_index()\n",
        "# hw3_data.head(10)"
      ]
    },
    {
      "cell_type": "code",
      "execution_count": 292,
      "metadata": {},
      "outputs": [
        {
          "data": {
            "text/html": [
              "<div>\n",
              "<style scoped>\n",
              "    .dataframe tbody tr th:only-of-type {\n",
              "        vertical-align: middle;\n",
              "    }\n",
              "\n",
              "    .dataframe tbody tr th {\n",
              "        vertical-align: top;\n",
              "    }\n",
              "\n",
              "    .dataframe thead th {\n",
              "        text-align: right;\n",
              "    }\n",
              "</style>\n",
              "<table border=\"1\" class=\"dataframe\">\n",
              "  <thead>\n",
              "    <tr style=\"text-align: right;\">\n",
              "      <th></th>\n",
              "      <th>% identity</th>\n",
              "      <th>alignment length</th>\n",
              "      <th>mismatches</th>\n",
              "      <th>gap opens</th>\n",
              "      <th>q. start</th>\n",
              "      <th>q. end</th>\n",
              "      <th>s. start</th>\n",
              "      <th>s. end</th>\n",
              "      <th>evalue</th>\n",
              "      <th>bit score</th>\n",
              "      <th>% positives</th>\n",
              "      <th>bonds</th>\n",
              "      <th>publications</th>\n",
              "    </tr>\n",
              "    <tr>\n",
              "      <th>subject acc.ver</th>\n",
              "      <th></th>\n",
              "      <th></th>\n",
              "      <th></th>\n",
              "      <th></th>\n",
              "      <th></th>\n",
              "      <th></th>\n",
              "      <th></th>\n",
              "      <th></th>\n",
              "      <th></th>\n",
              "      <th></th>\n",
              "      <th></th>\n",
              "      <th></th>\n",
              "      <th></th>\n",
              "    </tr>\n",
              "  </thead>\n",
              "  <tbody>\n",
              "    <tr>\n",
              "      <th>NP_904328.1</th>\n",
              "      <td>100.000</td>\n",
              "      <td>318.0</td>\n",
              "      <td>0.0</td>\n",
              "      <td>0.0</td>\n",
              "      <td>1.0</td>\n",
              "      <td>318.0</td>\n",
              "      <td>1.0</td>\n",
              "      <td>318.0</td>\n",
              "      <td>0.0</td>\n",
              "      <td>629.0</td>\n",
              "      <td>100.00</td>\n",
              "      <td>1,487</td>\n",
              "      <td>9</td>\n",
              "    </tr>\n",
              "    <tr>\n",
              "      <th>AGK29621.1</th>\n",
              "      <td>99.686</td>\n",
              "      <td>318.0</td>\n",
              "      <td>1.0</td>\n",
              "      <td>0.0</td>\n",
              "      <td>1.0</td>\n",
              "      <td>318.0</td>\n",
              "      <td>1.0</td>\n",
              "      <td>318.0</td>\n",
              "      <td>0.0</td>\n",
              "      <td>629.0</td>\n",
              "      <td>100.00</td>\n",
              "      <td>17,947</td>\n",
              "      <td>47</td>\n",
              "    </tr>\n",
              "    <tr>\n",
              "      <th>YP_220563.1</th>\n",
              "      <td>99.686</td>\n",
              "      <td>318.0</td>\n",
              "      <td>1.0</td>\n",
              "      <td>0.0</td>\n",
              "      <td>1.0</td>\n",
              "      <td>318.0</td>\n",
              "      <td>1.0</td>\n",
              "      <td>318.0</td>\n",
              "      <td>0.0</td>\n",
              "      <td>627.0</td>\n",
              "      <td>100.00</td>\n",
              "      <td>12,106</td>\n",
              "      <td>13</td>\n",
              "    </tr>\n",
              "    <tr>\n",
              "      <th>ACM24502.1</th>\n",
              "      <td>99.686</td>\n",
              "      <td>318.0</td>\n",
              "      <td>1.0</td>\n",
              "      <td>0.0</td>\n",
              "      <td>1.0</td>\n",
              "      <td>318.0</td>\n",
              "      <td>1.0</td>\n",
              "      <td>318.0</td>\n",
              "      <td>0.0</td>\n",
              "      <td>627.0</td>\n",
              "      <td>99.69</td>\n",
              "      <td>2,319</td>\n",
              "      <td>41</td>\n",
              "    </tr>\n",
              "    <tr>\n",
              "      <th>AHG32084.1</th>\n",
              "      <td>99.371</td>\n",
              "      <td>318.0</td>\n",
              "      <td>2.0</td>\n",
              "      <td>0.0</td>\n",
              "      <td>1.0</td>\n",
              "      <td>318.0</td>\n",
              "      <td>1.0</td>\n",
              "      <td>318.0</td>\n",
              "      <td>0.0</td>\n",
              "      <td>627.0</td>\n",
              "      <td>100.00</td>\n",
              "      <td>18,964</td>\n",
              "      <td>3</td>\n",
              "    </tr>\n",
              "  </tbody>\n",
              "</table>\n",
              "</div>"
            ],
            "text/plain": [
              "                 % identity  alignment length  mismatches  gap opens  \\\n",
              "subject acc.ver                                                        \n",
              "NP_904328.1         100.000             318.0         0.0        0.0   \n",
              "AGK29621.1           99.686             318.0         1.0        0.0   \n",
              "YP_220563.1          99.686             318.0         1.0        0.0   \n",
              "ACM24502.1           99.686             318.0         1.0        0.0   \n",
              "AHG32084.1           99.371             318.0         2.0        0.0   \n",
              "\n",
              "                 q. start  q. end  s. start  s. end  evalue  bit score  \\\n",
              "subject acc.ver                                                          \n",
              "NP_904328.1           1.0   318.0       1.0   318.0     0.0      629.0   \n",
              "AGK29621.1            1.0   318.0       1.0   318.0     0.0      629.0   \n",
              "YP_220563.1           1.0   318.0       1.0   318.0     0.0      627.0   \n",
              "ACM24502.1            1.0   318.0       1.0   318.0     0.0      627.0   \n",
              "AHG32084.1            1.0   318.0       1.0   318.0     0.0      627.0   \n",
              "\n",
              "                 % positives     bonds publications  \n",
              "subject acc.ver                                      \n",
              "NP_904328.1           100.00    1,487             9  \n",
              "AGK29621.1            100.00   17,947            47  \n",
              "YP_220563.1           100.00   12,106            13  \n",
              "ACM24502.1             99.69    2,319            41  \n",
              "AHG32084.1            100.00   18,964             3  "
            ]
          },
          "execution_count": 292,
          "metadata": {},
          "output_type": "execute_result"
        }
      ],
      "source": [
        "hw3_data_q1 = hw3_data.drop(hw3_data.columns[[0]], axis=1)\n",
        "# hw3_data_q1 = hw3_data_q1.reset_index(hw3_data_q1.columns[[0]])\n",
        "\n",
        "# print(hw3_data_q1.columns)\n",
        "hw3_data_q1 = hw3_data_q1.set_index('subject acc.ver')\n",
        "hw3_data_q1.head()"
      ]
    },
    {
      "cell_type": "markdown",
      "metadata": {
        "id": "aHNeMncr3r6j"
      },
      "source": [
        "#### Question 2: ####\n",
        "What is the average number of publications?"
      ]
    },
    {
      "cell_type": "code",
      "execution_count": 293,
      "metadata": {
        "id": "Q1JK-hYw3r6j"
      },
      "outputs": [
        {
          "name": "stdout",
          "output_type": "stream",
          "text": [
            "26.18 average publications\n"
          ]
        }
      ],
      "source": [
        "pub_col = hw3_data_q1.iloc[:, 12]\n",
        "pub_val = pub_col.values\n",
        "# print(pub_val)\n",
        "\n",
        "pub_avg = 0\n",
        "for i in pub_val:\n",
        "    if i == '-':\n",
        "        i = 0\n",
        "    pub_avg += int(i)\n",
        "print(f\"{pub_avg/len(pub_val)} average publications\")\n"
      ]
    },
    {
      "cell_type": "markdown",
      "metadata": {
        "id": "r4gRR96y3r6k"
      },
      "source": [
        "#### Question 3: ####\n",
        "List the `subject acc.ver` that has over 15,000 bonds."
      ]
    },
    {
      "cell_type": "code",
      "execution_count": 294,
      "metadata": {
        "id": "pLKiddab3r6k"
      },
      "outputs": [
        {
          "name": "stderr",
          "output_type": "stream",
          "text": [
            "/var/folders/kb/2pqqmm596ms1kz830f_3lnq80000gn/T/ipykernel_35857/2647590593.py:4: FutureWarning: Calling int on a single element Series is deprecated and will raise a TypeError in the future. Use int(ser.iloc[0]) instead\n",
            "  result = hw3_data_q1.groupby(\"subject acc.ver\")[\"bonds\"].apply(lambda x: int(x) > 15000)\n"
          ]
        }
      ],
      "source": [
        "# subAcc_col = hw3_data.iloc[:, 13]\n",
        "hw3_data_q1.replace([\"-\"], 0, inplace=True)\n",
        "hw3_data_q1[\"bonds\"] = hw3_data_q1[\"bonds\"].str.strip().str.replace(\",\", \"\")\n",
        "result = hw3_data_q1.groupby(\"subject acc.ver\")[\"bonds\"].apply(lambda x: int(x) > 15000)\n",
        "# print(result)\n"
      ]
    },
    {
      "cell_type": "code",
      "execution_count": 295,
      "metadata": {},
      "outputs": [
        {
          "name": "stdout",
          "output_type": "stream",
          "text": [
            "['0806162F', '6G2J_H', 'ABX45285.1', 'ADD46492.1', 'ADG95699.1', 'AGK29621.1', 'AGK29634.1', 'AHG32084.1', 'AHG32149.1', 'AHZ60901.1', 'ASM92364.1', 'ASM92494.1', 'YP_001876469.1', 'YP_002791042.1', 'YP_004123270.1', 'YP_004123350.1', 'YP_004891275.1', 'YP_006073044.1', 'YP_007024956.1', 'YP_007025968.1', 'YP_009092073.1', 'YP_009092074.1', 'YP_009092269.1', 'YP_009093743.1', 'YP_009112408.1', 'YP_009166014.1', 'YP_009178854.1', 'YP_009353908.1', 'YP_009414156.1', 'YP_009414182.1', 'YP_009414363.1', 'YP_009414415.1', 'YP_009450474.1', 'YP_009453754.1', 'YP_009453806.1', 'YP_009538416.1']\n"
          ]
        }
      ],
      "source": [
        "# print(type(result))\n",
        "print_result = []\n",
        "for idx, val in result.items():\n",
        "    if val:\n",
        "        print_result.append(idx) # redimentary loop to print only 'True' values\n",
        "\n",
        "print(print_result)"
      ]
    },
    {
      "cell_type": "markdown",
      "metadata": {
        "id": "M70xicCeIPtw"
      },
      "source": [
        "#### Question 4: ####\n",
        "Create a scatter plot that shows the relationship between `% identity` and `alignment length`.  \n",
        "Include in your answer, do alignment with longer length have higher % identity?"
      ]
    },
    {
      "cell_type": "code",
      "execution_count": 296,
      "metadata": {},
      "outputs": [
        {
          "data": {
            "text/plain": [
              "Text(0.5, 1.02, 'Relationship between percent identity and alignment length')"
            ]
          },
          "execution_count": 296,
          "metadata": {},
          "output_type": "execute_result"
        },
        {
          "data": {
            "image/png": "[encoded data removed]",
            "text/plain": [
              "<Figure size 500x500 with 1 Axes>"
            ]
          },
          "metadata": {},
          "output_type": "display_data"
        }
      ],
      "source": [
        "import seaborn as sns\n",
        "\n",
        "g = sns.lmplot(\n",
        "    data=hw3_data_q1,\n",
        "    x=\"% identity\",\n",
        "    y=\"alignment length\",\n",
        "    ci=95, # int\n",
        "    order=2,\n",
        "    markers='.',\n",
        "    scatter_kws={'s':100}\n",
        ")\n",
        "g.fig.suptitle(\"Relationship between percent identity and alignment length\", y=1.02) "
      ]
    },
    {
      "cell_type": "markdown",
      "metadata": {},
      "source": [
        "***In order to approach this, I graphed the percent identity data to the alignment length, mapped a line of best fit, and a confidence interval. There's a positive trend that indicates that it is true that alignments with higher length generally have higher percent identities.***"
      ]
    },
    {
      "cell_type": "markdown",
      "metadata": {
        "id": "H56QTFYU3r6l"
      },
      "source": [
        "#### Question 5: ####\n",
        "Create a plot that shows the correlation between `% identity` and `% positives`.  \n",
        "Include in your answer and interpretation of what this plot tells you about %identity and %positive."
      ]
    },
    {
      "cell_type": "code",
      "execution_count": 297,
      "metadata": {
        "id": "YD3IBzmG3r6l"
      },
      "outputs": [
        {
          "data": {
            "text/plain": [
              "Text(0.5, 1.02, 'Relationship between percent identity and percent positives')"
            ]
          },
          "execution_count": 297,
          "metadata": {},
          "output_type": "execute_result"
        },
        {
          "data": {
            "image/png": "[encoded data removed]",
            "text/plain": [
              "<Figure size 500x500 with 1 Axes>"
            ]
          },
          "metadata": {},
          "output_type": "display_data"
        }
      ],
      "source": [
        "g = sns.lmplot(\n",
        "    data=hw3_data_q1,\n",
        "    x=\"% identity\",\n",
        "    y=\"% positives\",\n",
        "    ci=95, # int\n",
        "    order=2,\n",
        "    markers='.',\n",
        "    scatter_kws={'s':100}\n",
        ")\n",
        "g.fig.suptitle(\"Relationship between percent identity and percent positives\", y=1.02) "
      ]
    },
    {
      "cell_type": "markdown",
      "metadata": {},
      "source": [
        "***Using the graph I have generated above, you can clearly spot a positive correlation between percent identity and percent positives. This means as the alignment's percent identity increases, the percent positive (or what I can only explain as similar motifs or sequences that may lead to similar functionalities) increases.***"
      ]
    },
    {
      "cell_type": "markdown",
      "metadata": {
        "id": "ps5CXkTdHSef"
      },
      "source": [
        "#### Question 6: ####\n",
        "Create a histogram to plot the frequency distribution of `%identity`.\n",
        "\n",
        "Ask: Are most hits high identity (close to 100%) or spread out?\n",
        "Include in your answer, are most of the subject acc.ver  `%identity` close to 100% or spread out?"
      ]
    },
    {
      "cell_type": "code",
      "execution_count": 298,
      "metadata": {
        "id": "vA7VpW8UHSrY"
      },
      "outputs": [
        {
          "data": {
            "text/plain": [
              "Text(0.5, 1.02, 'Frequency distribution of percent identity')"
            ]
          },
          "execution_count": 298,
          "metadata": {},
          "output_type": "execute_result"
        },
        {
          "data": {
            "image/png": "[encoded data removed]",
            "text/plain": [
              "<Figure size 2511.11x500 with 1 Axes>"
            ]
          },
          "metadata": {},
          "output_type": "display_data"
        }
      ],
      "source": [
        "h = sns.catplot(\n",
        "    data=hw3_data_q1,\n",
        "    x=\"% identity\",\n",
        "    kind=\"count\",\n",
        "    aspect=5\n",
        ")\n",
        "h.fig.suptitle(\"Frequency distribution of percent identity\", y=1.02) "
      ]
    },
    {
      "cell_type": "markdown",
      "metadata": {},
      "source": [
        "***According to the bar plot I have generated above, most of the percent identities seem to be pretty spread out within the 80%-100% range, with most of the data still being skewed more towards 100%.***"
      ]
    },
    {
      "cell_type": "markdown",
      "metadata": {
        "id": "pEUJxhad3r6m"
      },
      "source": [
        "#### Question 7: ####\n",
        "Add a column `Protein source` to the dataframe from Question 1 based on the data in this csv file: https://raw.githubusercontent.com/csbfx/advpy122-data/master/protein_source.csv. Merge the data when the `subject acc.ver` from the dataframe equals to `Protein` in the csv file. Entries without a matching protein will have `NA` as `Protein source`."
      ]
    },
    {
      "cell_type": "code",
      "execution_count": 299,
      "metadata": {
        "id": "xzIwyECv3r6m"
      },
      "outputs": [],
      "source": [
        "protein_data = pd.read_csv('https://raw.githubusercontent.com/csbfx/advpy122-data/master/protein_source.csv')\n",
        "# protein_data.head()\n"
      ]
    },
    {
      "cell_type": "code",
      "execution_count": 300,
      "metadata": {},
      "outputs": [
        {
          "data": {
            "text/html": [
              "<div>\n",
              "<style scoped>\n",
              "    .dataframe tbody tr th:only-of-type {\n",
              "        vertical-align: middle;\n",
              "    }\n",
              "\n",
              "    .dataframe tbody tr th {\n",
              "        vertical-align: top;\n",
              "    }\n",
              "\n",
              "    .dataframe thead th {\n",
              "        text-align: right;\n",
              "    }\n",
              "</style>\n",
              "<table border=\"1\" class=\"dataframe\">\n",
              "  <thead>\n",
              "    <tr style=\"text-align: right;\">\n",
              "      <th></th>\n",
              "      <th>query acc.ver</th>\n",
              "      <th>subject acc.ver</th>\n",
              "      <th>% identity</th>\n",
              "      <th>alignment length</th>\n",
              "      <th>mismatches</th>\n",
              "      <th>gap opens</th>\n",
              "      <th>q. start</th>\n",
              "      <th>q. end</th>\n",
              "      <th>s. start</th>\n",
              "      <th>s. end</th>\n",
              "      <th>evalue</th>\n",
              "      <th>bit score</th>\n",
              "      <th>% positives</th>\n",
              "      <th>bonds</th>\n",
              "      <th>publications</th>\n",
              "      <th>protein source</th>\n",
              "    </tr>\n",
              "  </thead>\n",
              "  <tbody>\n",
              "    <tr>\n",
              "      <th>6</th>\n",
              "      <td>YP_220550.1</td>\n",
              "      <td>NP_904328.1</td>\n",
              "      <td>100.000</td>\n",
              "      <td>318.0</td>\n",
              "      <td>0.0</td>\n",
              "      <td>0.0</td>\n",
              "      <td>1.0</td>\n",
              "      <td>318.0</td>\n",
              "      <td>1.0</td>\n",
              "      <td>318.0</td>\n",
              "      <td>0.0</td>\n",
              "      <td>629.0</td>\n",
              "      <td>100.00</td>\n",
              "      <td>1,487</td>\n",
              "      <td>9</td>\n",
              "      <td>RefSeq</td>\n",
              "    </tr>\n",
              "    <tr>\n",
              "      <th>7</th>\n",
              "      <td>YP_220550.1</td>\n",
              "      <td>AGK29621.1</td>\n",
              "      <td>99.686</td>\n",
              "      <td>318.0</td>\n",
              "      <td>1.0</td>\n",
              "      <td>0.0</td>\n",
              "      <td>1.0</td>\n",
              "      <td>318.0</td>\n",
              "      <td>1.0</td>\n",
              "      <td>318.0</td>\n",
              "      <td>0.0</td>\n",
              "      <td>629.0</td>\n",
              "      <td>100.00</td>\n",
              "      <td>17,947</td>\n",
              "      <td>47</td>\n",
              "      <td>NA</td>\n",
              "    </tr>\n",
              "    <tr>\n",
              "      <th>8</th>\n",
              "      <td>YP_220550.1</td>\n",
              "      <td>YP_220563.1</td>\n",
              "      <td>99.686</td>\n",
              "      <td>318.0</td>\n",
              "      <td>1.0</td>\n",
              "      <td>0.0</td>\n",
              "      <td>1.0</td>\n",
              "      <td>318.0</td>\n",
              "      <td>1.0</td>\n",
              "      <td>318.0</td>\n",
              "      <td>0.0</td>\n",
              "      <td>627.0</td>\n",
              "      <td>100.00</td>\n",
              "      <td>12,106</td>\n",
              "      <td>13</td>\n",
              "      <td>GenPept</td>\n",
              "    </tr>\n",
              "    <tr>\n",
              "      <th>9</th>\n",
              "      <td>YP_220550.1</td>\n",
              "      <td>ACM24502.1</td>\n",
              "      <td>99.686</td>\n",
              "      <td>318.0</td>\n",
              "      <td>1.0</td>\n",
              "      <td>0.0</td>\n",
              "      <td>1.0</td>\n",
              "      <td>318.0</td>\n",
              "      <td>1.0</td>\n",
              "      <td>318.0</td>\n",
              "      <td>0.0</td>\n",
              "      <td>627.0</td>\n",
              "      <td>99.69</td>\n",
              "      <td>2,319</td>\n",
              "      <td>41</td>\n",
              "      <td>NA</td>\n",
              "    </tr>\n",
              "    <tr>\n",
              "      <th>10</th>\n",
              "      <td>YP_220550.1</td>\n",
              "      <td>AHG32084.1</td>\n",
              "      <td>99.371</td>\n",
              "      <td>318.0</td>\n",
              "      <td>2.0</td>\n",
              "      <td>0.0</td>\n",
              "      <td>1.0</td>\n",
              "      <td>318.0</td>\n",
              "      <td>1.0</td>\n",
              "      <td>318.0</td>\n",
              "      <td>0.0</td>\n",
              "      <td>627.0</td>\n",
              "      <td>100.00</td>\n",
              "      <td>18,964</td>\n",
              "      <td>3</td>\n",
              "      <td>NA</td>\n",
              "    </tr>\n",
              "    <tr>\n",
              "      <th>...</th>\n",
              "      <td>...</td>\n",
              "      <td>...</td>\n",
              "      <td>...</td>\n",
              "      <td>...</td>\n",
              "      <td>...</td>\n",
              "      <td>...</td>\n",
              "      <td>...</td>\n",
              "      <td>...</td>\n",
              "      <td>...</td>\n",
              "      <td>...</td>\n",
              "      <td>...</td>\n",
              "      <td>...</td>\n",
              "      <td>...</td>\n",
              "      <td>...</td>\n",
              "      <td>...</td>\n",
              "      <td>...</td>\n",
              "    </tr>\n",
              "    <tr>\n",
              "      <th>101</th>\n",
              "      <td>YP_220550.1</td>\n",
              "      <td>ABX45285.1</td>\n",
              "      <td>92.767</td>\n",
              "      <td>318.0</td>\n",
              "      <td>23.0</td>\n",
              "      <td>0.0</td>\n",
              "      <td>1.0</td>\n",
              "      <td>318.0</td>\n",
              "      <td>1.0</td>\n",
              "      <td>318.0</td>\n",
              "      <td>0.0</td>\n",
              "      <td>551.0</td>\n",
              "      <td>97.48</td>\n",
              "      <td>17,348</td>\n",
              "      <td>6</td>\n",
              "      <td>NA</td>\n",
              "    </tr>\n",
              "    <tr>\n",
              "      <th>102</th>\n",
              "      <td>YP_220550.1</td>\n",
              "      <td>ASP44815.1</td>\n",
              "      <td>93.375</td>\n",
              "      <td>317.0</td>\n",
              "      <td>21.0</td>\n",
              "      <td>0.0</td>\n",
              "      <td>1.0</td>\n",
              "      <td>317.0</td>\n",
              "      <td>1.0</td>\n",
              "      <td>317.0</td>\n",
              "      <td>0.0</td>\n",
              "      <td>551.0</td>\n",
              "      <td>96.85</td>\n",
              "      <td>7,105</td>\n",
              "      <td>19</td>\n",
              "      <td>NA</td>\n",
              "    </tr>\n",
              "    <tr>\n",
              "      <th>103</th>\n",
              "      <td>YP_220550.1</td>\n",
              "      <td>YP_009414156.1</td>\n",
              "      <td>84.543</td>\n",
              "      <td>317.0</td>\n",
              "      <td>49.0</td>\n",
              "      <td>0.0</td>\n",
              "      <td>1.0</td>\n",
              "      <td>317.0</td>\n",
              "      <td>1.0</td>\n",
              "      <td>317.0</td>\n",
              "      <td>0.0</td>\n",
              "      <td>551.0</td>\n",
              "      <td>94.01</td>\n",
              "      <td>18,940</td>\n",
              "      <td>37</td>\n",
              "      <td>GenPept</td>\n",
              "    </tr>\n",
              "    <tr>\n",
              "      <th>104</th>\n",
              "      <td>YP_220550.1</td>\n",
              "      <td>YP_009414363.1</td>\n",
              "      <td>85.174</td>\n",
              "      <td>317.0</td>\n",
              "      <td>47.0</td>\n",
              "      <td>0.0</td>\n",
              "      <td>1.0</td>\n",
              "      <td>317.0</td>\n",
              "      <td>1.0</td>\n",
              "      <td>317.0</td>\n",
              "      <td>0.0</td>\n",
              "      <td>551.0</td>\n",
              "      <td>94.01</td>\n",
              "      <td>18,762</td>\n",
              "      <td>5</td>\n",
              "      <td>GenPept</td>\n",
              "    </tr>\n",
              "    <tr>\n",
              "      <th>105</th>\n",
              "      <td>YP_220550.1</td>\n",
              "      <td>AGS12808.1</td>\n",
              "      <td>92.744</td>\n",
              "      <td>317.0</td>\n",
              "      <td>23.0</td>\n",
              "      <td>0.0</td>\n",
              "      <td>1.0</td>\n",
              "      <td>317.0</td>\n",
              "      <td>1.0</td>\n",
              "      <td>317.0</td>\n",
              "      <td>0.0</td>\n",
              "      <td>551.0</td>\n",
              "      <td>97.79</td>\n",
              "      <td>3,209</td>\n",
              "      <td>32</td>\n",
              "      <td>NA</td>\n",
              "    </tr>\n",
              "  </tbody>\n",
              "</table>\n",
              "<p>100 rows × 16 columns</p>\n",
              "</div>"
            ],
            "text/plain": [
              "    query acc.ver subject acc.ver  % identity  alignment length  mismatches  \\\n",
              "6     YP_220550.1     NP_904328.1     100.000             318.0         0.0   \n",
              "7     YP_220550.1      AGK29621.1      99.686             318.0         1.0   \n",
              "8     YP_220550.1     YP_220563.1      99.686             318.0         1.0   \n",
              "9     YP_220550.1      ACM24502.1      99.686             318.0         1.0   \n",
              "10    YP_220550.1      AHG32084.1      99.371             318.0         2.0   \n",
              "..            ...             ...         ...               ...         ...   \n",
              "101   YP_220550.1      ABX45285.1      92.767             318.0        23.0   \n",
              "102   YP_220550.1      ASP44815.1      93.375             317.0        21.0   \n",
              "103   YP_220550.1  YP_009414156.1      84.543             317.0        49.0   \n",
              "104   YP_220550.1  YP_009414363.1      85.174             317.0        47.0   \n",
              "105   YP_220550.1      AGS12808.1      92.744             317.0        23.0   \n",
              "\n",
              "     gap opens  q. start  q. end  s. start  s. end  evalue  bit score  \\\n",
              "6          0.0       1.0   318.0       1.0   318.0     0.0      629.0   \n",
              "7          0.0       1.0   318.0       1.0   318.0     0.0      629.0   \n",
              "8          0.0       1.0   318.0       1.0   318.0     0.0      627.0   \n",
              "9          0.0       1.0   318.0       1.0   318.0     0.0      627.0   \n",
              "10         0.0       1.0   318.0       1.0   318.0     0.0      627.0   \n",
              "..         ...       ...     ...       ...     ...     ...        ...   \n",
              "101        0.0       1.0   318.0       1.0   318.0     0.0      551.0   \n",
              "102        0.0       1.0   317.0       1.0   317.0     0.0      551.0   \n",
              "103        0.0       1.0   317.0       1.0   317.0     0.0      551.0   \n",
              "104        0.0       1.0   317.0       1.0   317.0     0.0      551.0   \n",
              "105        0.0       1.0   317.0       1.0   317.0     0.0      551.0   \n",
              "\n",
              "     % positives     bonds publications protein source  \n",
              "6         100.00    1,487             9         RefSeq  \n",
              "7         100.00   17,947            47             NA  \n",
              "8         100.00   12,106            13        GenPept  \n",
              "9          99.69    2,319            41             NA  \n",
              "10        100.00   18,964             3             NA  \n",
              "..           ...       ...          ...            ...  \n",
              "101        97.48   17,348             6             NA  \n",
              "102        96.85    7,105            19             NA  \n",
              "103        94.01   18,940            37        GenPept  \n",
              "104        94.01   18,762             5        GenPept  \n",
              "105        97.79    3,209            32             NA  \n",
              "\n",
              "[100 rows x 16 columns]"
            ]
          },
          "execution_count": 300,
          "metadata": {},
          "output_type": "execute_result"
        }
      ],
      "source": [
        "protein_map = dict(zip(protein_data[\"Protein\"], protein_data[\"Source\"])) # making map of the data in new input file\n",
        "# print(protein_map)\n",
        "\n",
        "hw3_data['protein source'] = hw3_data['subject acc.ver'].map(protein_map) # creating new column and mapping\n",
        "hw3_data = hw3_data.fillna(\"NA\") # changing 'NaN' to 'NA'\n",
        "\n",
        "hw3_data\n"
      ]
    }
  ],
  "metadata": {
    "colab": {
      "provenance": []
    },
    "kernelspec": {
      "display_name": ".venv",
      "language": "python",
      "name": "python3"
    },
    "language_info": {
      "codemirror_mode": {
        "name": "ipython",
        "version": 3
      },
      "file_extension": ".py",
      "mimetype": "text/x-python",
      "name": "python",
      "nbconvert_exporter": "python",
      "pygments_lexer": "ipython3",
      "version": "3.11.9"
    }
  },
  "nbformat": 4,
  "nbformat_minor": 0
}
